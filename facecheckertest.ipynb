{
 "cells": [
  {
   "cell_type": "code",
   "execution_count": 64,
   "metadata": {},
   "outputs": [],
   "source": [
    "from facenet_pytorch import InceptionResnetV1\n",
    "import torch\n",
    "\n",
    "# Load pretrained FaceNet model\n",
    "model = InceptionResnetV1(pretrained='vggface2').eval()"
   ]
  },
  {
   "cell_type": "code",
   "execution_count": 65,
   "metadata": {},
   "outputs": [],
   "source": [
    "from torchvision import transforms\n",
    "from PIL import Image\n",
    "\n",
    "# Define augmentation transformations\n",
    "augmentations = transforms.Compose([\n",
    "    transforms.RandomRotation(10),  \n",
    "    transforms.RandomHorizontalFlip(),  \n",
    "    transforms.ColorJitter(brightness=0.2, contrast=0.2),\n",
    "    transforms.RandomResizedCrop(160, scale=(0.9, 1.0)),\n",
    "    transforms.ToTensor()\n",
    "])\n",
    "\n",
    "def augment_image(image_path, num_augments=5):\n",
    "    image = Image.open(image_path).convert('RGB')\n",
    "    augmented_images = [augmentations(image) for _ in range(num_augments)]\n",
    "    return augmented_images"
   ]
  },
  {
   "cell_type": "code",
   "execution_count": null,
   "metadata": {},
   "outputs": [],
   "source": [
    "import torch.nn.functional as F\n",
    "\n",
    "def get_embedding(image_path, model):\n",
    "    image = Image.open(image_path).convert('RGB')\n",
    "    transform = transforms.Compose([transforms.Resize((160, 160)), transforms.ToTensor()])\n",
    "    image = transform(image).unsqueeze(0)  # Add batch dimension\n",
    "\n",
    "    with torch.no_grad():\n",
    "        embedding = model(image)  # Get 128D face embedding\n",
    "    return embedding.squeeze(0)  # Remove batch dimension"
   ]
  },
  {
   "cell_type": "code",
   "execution_count": 70,
   "metadata": {},
   "outputs": [],
   "source": [
    "from mtcnn import MTCNN\n",
    "from PIL import Image\n",
    "import numpy as np\n",
    "\n",
    "detector = MTCNN()\n",
    "\n",
    "def extract_face(image_path, required_size=(160, 160)):\n",
    "    image = Image.open(image_path)\n",
    "    image = image.convert('RGB')\n",
    "    pixels = np.asarray(image)\n",
    "    results = detector.detect_faces(pixels)\n",
    "    x1, y1, width, height = results[0]['box']\n",
    "    x1, y1 = abs(x1), abs(y1)\n",
    "    x2, y2 = x1 + width, y1 + height\n",
    "    face = pixels[y1:y2, x1:x2]\n",
    "    image = Image.fromarray(face)\n",
    "    image = image.resize(required_size)\n",
    "    face_array = np.asarray(image)\n",
    "    return face_array\n",
    "\n"
   ]
  },
  {
   "cell_type": "code",
   "execution_count": null,
   "metadata": {},
   "outputs": [
    {
     "ename": "UnboundLocalError",
     "evalue": "cannot access local variable 'image' where it is not associated with a value",
     "output_type": "error",
     "traceback": [
      "\u001b[0;31m---------------------------------------------------------------------------\u001b[0m",
      "\u001b[0;31mUnboundLocalError\u001b[0m                         Traceback (most recent call last)",
      "Cell \u001b[0;32mIn[71], line 10\u001b[0m\n\u001b[1;32m      8\u001b[0m person_name \u001b[38;5;241m=\u001b[39m file\u001b[38;5;241m.\u001b[39msplit(\u001b[38;5;124m\"\u001b[39m\u001b[38;5;124m.\u001b[39m\u001b[38;5;124m\"\u001b[39m)[\u001b[38;5;241m0\u001b[39m]  \u001b[38;5;66;03m# Assuming filename is \"name.jpg\"\u001b[39;00m\n\u001b[1;32m      9\u001b[0m face \u001b[38;5;241m=\u001b[39m extract_face(os\u001b[38;5;241m.\u001b[39mpath\u001b[38;5;241m.\u001b[39mjoin(image_folder, file))\n\u001b[0;32m---> 10\u001b[0m embedding \u001b[38;5;241m=\u001b[39m \u001b[43mget_embedding\u001b[49m\u001b[43m(\u001b[49m\u001b[43mface\u001b[49m\u001b[43m,\u001b[49m\u001b[43m \u001b[49m\u001b[43mmodel\u001b[49m\u001b[43m)\u001b[49m\n\u001b[1;32m     11\u001b[0m database[person_name] \u001b[38;5;241m=\u001b[39m embedding\n",
      "Cell \u001b[0;32mIn[69], line 5\u001b[0m, in \u001b[0;36mget_embedding\u001b[0;34m(image_path, model)\u001b[0m\n\u001b[1;32m      3\u001b[0m \u001b[38;5;28;01mdef\u001b[39;00m \u001b[38;5;21mget_embedding\u001b[39m(image_path, model):\n\u001b[1;32m      4\u001b[0m     transform \u001b[38;5;241m=\u001b[39m transforms\u001b[38;5;241m.\u001b[39mCompose([transforms\u001b[38;5;241m.\u001b[39mResize((\u001b[38;5;241m160\u001b[39m, \u001b[38;5;241m160\u001b[39m)), transforms\u001b[38;5;241m.\u001b[39mToTensor()])\n\u001b[0;32m----> 5\u001b[0m     image \u001b[38;5;241m=\u001b[39m transform(\u001b[43mimage\u001b[49m)\u001b[38;5;241m.\u001b[39munsqueeze(\u001b[38;5;241m0\u001b[39m)  \u001b[38;5;66;03m# Add batch dimension\u001b[39;00m\n\u001b[1;32m      7\u001b[0m     \u001b[38;5;28;01mwith\u001b[39;00m torch\u001b[38;5;241m.\u001b[39mno_grad():\n\u001b[1;32m      8\u001b[0m         embedding \u001b[38;5;241m=\u001b[39m model(image)  \u001b[38;5;66;03m# Get 128D face embedding\u001b[39;00m\n",
      "\u001b[0;31mUnboundLocalError\u001b[0m: cannot access local variable 'image' where it is not associated with a value"
     ]
    }
   ],
   "source": [
    "import os\n",
    "\n",
    "database = {}\n",
    "image_folder = \"hdataset/\"  # Folder containing images of known people\n",
    "\n",
    "for file in os.listdir(image_folder):\n",
    "    if file.endswith(\".jpeg\") or file.endswith(\".png\"):\n",
    "        person_name = file.split(\".\")[0]  # Assuming filename is \"name.jpg\"\n",
    "        embedding = get_embedding(os.path.join(image_folder, file), model)\n",
    "        database[person_name] = embedding"
   ]
  },
  {
   "cell_type": "code",
   "execution_count": 50,
   "metadata": {},
   "outputs": [
    {
     "data": {
      "text/plain": [
       "tensor([-5.9049e-03, -1.6267e-03, -7.5006e-02,  9.3720e-02, -5.8983e-03,\n",
       "         9.7501e-02,  1.2672e-02, -1.3300e-02, -1.8464e-02, -8.9329e-02,\n",
       "         1.1922e-02,  1.4288e-02,  7.4118e-02, -2.5966e-02, -3.5369e-02,\n",
       "         3.9257e-02,  5.8211e-02,  4.4075e-02,  2.8584e-02, -6.6656e-02,\n",
       "        -4.8641e-02, -6.7417e-02,  1.5841e-02, -1.2370e-02,  5.0445e-02,\n",
       "        -6.4262e-03,  4.0469e-02, -3.5998e-02,  1.0906e-02,  5.9617e-02,\n",
       "         4.0621e-02,  2.0166e-02, -2.4960e-02,  2.4997e-02, -4.8914e-02,\n",
       "         3.9351e-02,  1.5049e-02, -2.7763e-02, -9.4885e-02,  9.6978e-02,\n",
       "        -7.6364e-03, -3.9515e-02, -2.0563e-02, -2.0474e-02,  4.8121e-02,\n",
       "        -2.7522e-03,  6.8501e-02,  1.0734e-01, -2.9871e-02, -1.4268e-02,\n",
       "         7.9757e-03,  2.1395e-02,  4.4009e-02,  1.4203e-02, -3.8519e-02,\n",
       "         2.1793e-02,  4.0790e-02,  3.1381e-02,  3.6213e-02,  4.9183e-03,\n",
       "         5.7170e-02,  3.5531e-02,  2.6345e-02, -4.7825e-02, -3.3016e-02,\n",
       "         9.8719e-02,  4.1848e-02, -2.6135e-03, -4.0130e-02, -3.7792e-02,\n",
       "         1.8287e-02,  3.4095e-02, -4.1979e-02,  4.7955e-02, -7.1481e-03,\n",
       "        -1.9603e-02, -5.6004e-02,  8.4226e-03, -3.1679e-02, -1.4689e-02,\n",
       "         4.5951e-03,  1.8179e-03,  2.0051e-02,  2.4872e-02, -6.6673e-03,\n",
       "        -1.5635e-02,  2.5804e-02,  2.9577e-02,  1.8677e-02, -1.5824e-02,\n",
       "         3.1487e-02,  1.7802e-03, -3.2486e-02, -5.4132e-02,  1.6115e-01,\n",
       "         1.3780e-02, -9.9537e-03, -3.9500e-02, -8.6748e-02,  9.4198e-02,\n",
       "         4.3652e-02, -7.9325e-02, -3.6651e-03, -1.4449e-02, -5.6184e-02,\n",
       "         6.7504e-02,  1.1130e-02, -2.7801e-02, -5.4898e-02, -7.9423e-03,\n",
       "         4.5011e-02,  2.4715e-02, -4.7554e-02, -5.2510e-02,  9.4691e-04,\n",
       "        -2.4782e-02,  5.8608e-03, -8.5153e-03, -4.8252e-03,  5.9453e-02,\n",
       "        -2.8567e-02,  2.4468e-02,  4.8259e-02, -4.1205e-02, -7.9848e-02,\n",
       "        -7.1662e-02, -3.6902e-02,  1.1836e-02,  1.6377e-02, -6.9246e-02,\n",
       "         5.0055e-02, -3.0057e-02,  4.9068e-03, -4.6532e-02, -6.9656e-02,\n",
       "         2.6077e-02, -7.7398e-03, -2.2568e-02,  4.9574e-02,  6.5059e-02,\n",
       "         2.9092e-02, -1.8093e-02, -4.2922e-02, -2.3340e-02,  8.5939e-02,\n",
       "        -2.3495e-02,  2.3195e-02, -4.0600e-03,  1.5957e-02, -3.0055e-02,\n",
       "         6.8492e-02, -5.5887e-04, -4.5197e-02,  3.6646e-02,  3.2458e-02,\n",
       "        -1.8228e-02,  4.3696e-02,  2.1806e-02,  6.9596e-02,  7.0202e-03,\n",
       "         3.1510e-02,  7.1097e-02,  4.8408e-03,  3.8677e-02,  1.0076e-02,\n",
       "         3.1124e-02, -4.5959e-02, -1.7668e-02, -3.2919e-02, -7.2147e-03,\n",
       "        -4.2048e-02,  1.0163e-01,  7.4269e-02, -3.2321e-02,  8.0224e-02,\n",
       "         3.1871e-02,  2.0293e-02, -6.2133e-02, -2.7265e-02, -3.4263e-02,\n",
       "        -7.5594e-02,  2.3624e-02, -6.9183e-02,  5.5549e-02, -1.1921e-02,\n",
       "         8.0492e-02,  4.7144e-02,  6.3246e-02,  8.8704e-03,  7.1359e-03,\n",
       "        -4.1106e-02, -5.3540e-02,  9.5222e-02, -1.5728e-02, -3.7698e-02,\n",
       "        -5.8725e-02,  1.9973e-02,  1.9905e-02, -5.4438e-02,  2.5157e-02,\n",
       "        -4.5063e-03, -5.1390e-02,  7.9561e-04,  3.3908e-02,  5.1468e-02,\n",
       "        -3.6510e-02, -3.7818e-02, -2.2125e-02, -4.4509e-02, -5.4691e-04,\n",
       "        -4.8110e-02, -3.6569e-02, -1.2343e-02,  5.3762e-02, -1.1457e-03,\n",
       "         6.3144e-02, -4.0992e-02,  3.6098e-02,  4.5328e-02, -6.9368e-03,\n",
       "        -3.9237e-02, -1.4740e-01, -9.5793e-02, -6.0451e-02, -2.4714e-02,\n",
       "         3.8879e-02,  2.0003e-02, -1.2199e-02, -9.8684e-02,  1.4519e-02,\n",
       "         2.7445e-02,  7.4354e-02,  1.8022e-02, -7.3257e-02, -3.3843e-03,\n",
       "         1.5989e-02,  1.5749e-02, -6.7084e-03,  1.8775e-02, -7.0812e-02,\n",
       "        -1.6002e-02,  2.6539e-02,  2.1143e-02, -6.2848e-02,  7.7150e-02,\n",
       "         3.6902e-03, -6.7997e-04,  1.8390e-02, -2.3773e-02,  1.3528e-02,\n",
       "        -3.9320e-02, -5.3071e-03, -5.5899e-03,  2.9890e-02,  1.6004e-02,\n",
       "         3.8399e-02,  5.6039e-02, -2.5652e-02,  6.7092e-02,  1.4457e-01,\n",
       "        -1.5112e-02, -2.6859e-02,  2.6337e-02, -4.0277e-02, -6.8121e-02,\n",
       "        -3.7931e-02,  1.7510e-02, -5.2601e-03, -1.0527e-02, -4.1114e-02,\n",
       "        -3.7710e-02,  3.8313e-03, -1.5401e-02, -5.5048e-03, -9.1448e-03,\n",
       "        -3.0754e-02,  1.6543e-02,  7.6977e-03, -3.6057e-02, -4.0147e-02,\n",
       "         3.5167e-02, -1.8892e-02, -5.0470e-03,  8.5151e-03, -5.4234e-02,\n",
       "        -5.2547e-02, -1.8800e-02, -4.6041e-02, -8.5386e-02, -3.7405e-02,\n",
       "         3.3241e-02, -4.6837e-02, -8.2874e-03, -3.9206e-02, -2.3532e-02,\n",
       "        -1.3951e-02, -5.0068e-03,  7.9680e-02,  7.4453e-02, -8.6366e-03,\n",
       "         7.4034e-02, -7.2590e-02,  6.2067e-02, -3.1022e-02,  2.8682e-02,\n",
       "         1.8314e-02, -2.9904e-02,  1.4632e-02,  6.0474e-03,  5.4944e-02,\n",
       "        -2.8742e-02, -1.9138e-02,  4.2207e-02,  1.8969e-02, -3.5586e-02,\n",
       "         4.1844e-02, -8.1120e-02,  3.8249e-03,  3.7442e-03,  3.9503e-02,\n",
       "         7.2229e-02, -4.4735e-02, -5.4035e-02,  2.6318e-02,  2.0230e-02,\n",
       "         3.9446e-02,  4.4160e-02,  3.3765e-02,  5.9888e-02,  9.6099e-02,\n",
       "         3.3192e-02,  2.0960e-02, -1.7415e-02,  6.5034e-03, -3.0326e-02,\n",
       "        -4.3771e-03,  5.1532e-02, -1.7582e-02,  7.0727e-02,  5.6311e-02,\n",
       "        -1.3219e-02, -7.9185e-02,  6.6942e-02, -2.1999e-02, -9.4438e-03,\n",
       "        -1.5801e-02,  1.0875e-02,  4.3303e-02,  7.4735e-03, -1.1796e-02,\n",
       "        -1.1741e-02,  6.2292e-02,  1.0961e-02, -5.8877e-02, -9.5027e-03,\n",
       "        -1.5140e-02,  1.1964e-01,  2.5849e-02,  1.3307e-02, -3.2209e-02,\n",
       "        -3.4989e-02, -3.9786e-02, -6.4535e-02, -1.0315e-01, -3.1497e-02,\n",
       "         5.9454e-02, -1.5857e-05, -2.0550e-02, -5.8606e-02, -1.3150e-02,\n",
       "        -2.5339e-02, -9.6009e-03, -2.5257e-02,  6.1486e-03,  6.2627e-02,\n",
       "         3.3750e-02,  3.4571e-02,  3.4645e-03, -3.7717e-02, -4.1435e-02,\n",
       "        -7.3704e-02, -6.3643e-02, -6.3502e-02, -4.7502e-02, -5.8307e-02,\n",
       "        -3.5513e-02, -5.0087e-02, -5.9896e-02, -1.4022e-02, -1.8361e-02,\n",
       "         4.2046e-03,  6.3292e-02, -3.4884e-02, -1.7497e-02, -3.6901e-02,\n",
       "         9.5988e-03,  3.2271e-02,  7.0858e-02,  5.9169e-02,  3.3598e-02,\n",
       "        -4.4450e-02,  7.4969e-02, -3.7295e-02,  3.3017e-02, -2.6301e-02,\n",
       "         8.5074e-04,  5.2774e-03, -2.8192e-02,  8.1558e-03, -2.5681e-02,\n",
       "        -1.9275e-03, -5.6344e-02,  2.1628e-02, -1.1907e-02,  4.0544e-05,\n",
       "        -2.6616e-02,  2.6464e-02,  3.8207e-02,  4.2963e-02, -3.2970e-02,\n",
       "        -1.5775e-03,  3.6409e-02, -3.0829e-02,  7.6046e-02, -4.5480e-02,\n",
       "         2.3402e-02,  5.6061e-02,  6.1101e-02,  2.8719e-02,  9.6286e-03,\n",
       "        -1.7522e-02,  1.2467e-02, -4.6642e-02, -3.8214e-02, -3.3736e-02,\n",
       "         2.0702e-02, -1.6611e-02,  1.1988e-02,  1.4639e-02, -4.9902e-02,\n",
       "        -4.4785e-02, -4.6424e-03, -1.0476e-02,  7.3590e-02,  2.1527e-04,\n",
       "         4.3865e-02, -2.1988e-02, -3.0831e-03, -2.1155e-02, -3.1089e-02,\n",
       "         1.3024e-04, -1.6782e-03, -1.6053e-02, -6.8068e-02,  1.0802e-02,\n",
       "        -1.6904e-02,  2.9406e-02,  8.8695e-02,  5.7706e-02,  5.8138e-02,\n",
       "        -7.1173e-02,  3.4588e-02, -4.8433e-02,  5.8146e-02,  4.4830e-02,\n",
       "         2.5344e-03, -4.6402e-02,  6.3271e-03,  6.8578e-02,  2.3885e-02,\n",
       "         5.4944e-02, -3.8158e-02,  1.1912e-02,  5.3564e-02, -7.7012e-02,\n",
       "        -4.3138e-02,  4.7705e-02,  5.6080e-03,  4.7425e-02,  4.7124e-02,\n",
       "         4.9834e-02, -4.1481e-02,  2.4210e-02,  1.5540e-03, -4.3659e-02,\n",
       "         8.0279e-02, -6.0615e-02,  3.6001e-02,  3.1138e-02, -6.0491e-03,\n",
       "        -3.6329e-02,  3.7919e-02, -5.7548e-02, -4.0054e-02,  6.8614e-02,\n",
       "        -1.6812e-02, -1.6358e-02,  1.7303e-02,  8.9415e-02,  2.3342e-02,\n",
       "        -2.3335e-02, -8.3585e-02,  5.7094e-02,  3.8949e-03, -6.5106e-02,\n",
       "         6.8756e-02,  1.0254e-01,  2.6872e-02, -5.5576e-03,  9.3419e-03,\n",
       "         1.9150e-02,  7.5665e-03])"
      ]
     },
     "execution_count": 50,
     "metadata": {},
     "output_type": "execute_result"
    }
   ],
   "source": [
    "database['jaindu']"
   ]
  },
  {
   "cell_type": "code",
   "execution_count": 51,
   "metadata": {},
   "outputs": [],
   "source": [
    "from scipy.spatial.distance import cosine\n",
    "\n",
    "def recognize_face(test_image_path, model, database, threshold=0.5):\n",
    "    test_embedding = get_embedding(test_image_path, model)\n",
    "\n",
    "    min_distance = float('inf')\n",
    "    best_match = None\n",
    "\n",
    "    for person_name, stored_embedding in database.items():\n",
    "        distance = cosine(test_embedding.numpy(), stored_embedding.numpy())  # Compute similarity\n",
    "        if distance < min_distance:\n",
    "            min_distance = distance\n",
    "            best_match = person_name\n",
    "\n",
    "    if min_distance < threshold:  # Set a threshold for recognition\n",
    "        return best_match\n",
    "    else:\n",
    "        return \"Unknown\""
   ]
  },
  {
   "cell_type": "code",
   "execution_count": 63,
   "metadata": {},
   "outputs": [
    {
     "name": "stdout",
     "output_type": "stream",
     "text": [
      "Predicted identity: sasith\n"
     ]
    }
   ],
   "source": [
    "test_image = \"test5.jpeg\"\n",
    "result = recognize_face(test_image, model, database)\n",
    "print(f\"Predicted identity: {result}\")"
   ]
  }
 ],
 "metadata": {
  "kernelspec": {
   "display_name": "Python 3",
   "language": "python",
   "name": "python3"
  },
  "language_info": {
   "codemirror_mode": {
    "name": "ipython",
    "version": 3
   },
   "file_extension": ".py",
   "mimetype": "text/x-python",
   "name": "python",
   "nbconvert_exporter": "python",
   "pygments_lexer": "ipython3",
   "version": "3.12.3"
  }
 },
 "nbformat": 4,
 "nbformat_minor": 2
}
